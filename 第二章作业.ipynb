{
 "cells": [
  {
   "cell_type": "code",
   "execution_count": 1,
   "metadata": {},
   "outputs": [],
   "source": [
    "#第二章作业"
   ]
  },
  {
   "cell_type": "code",
   "execution_count": 2,
   "metadata": {},
   "outputs": [],
   "source": [
    "#(1)用tensorflow实现两个数的加法，并在两个不同的会话中执行"
   ]
  },
  {
   "cell_type": "code",
   "execution_count": 3,
   "metadata": {},
   "outputs": [
    {
     "name": "stdout",
     "output_type": "stream",
     "text": [
      "7\n",
      "7\n"
     ]
    }
   ],
   "source": [
    "%matplotlib inline\n",
    "import tensorflow as tf\n",
    "with tf.Graph().as_default() as g:\n",
    "    a = tf.add(3, 4)\n",
    "    \n",
    "with tf.Session(graph=g) as sess1:\n",
    "     print(sess1.run(a))\n",
    "     \n",
    "with tf.Session(graph=g) as sess2:\n",
    "     print(sess2.run(a))"
   ]
  },
  {
   "cell_type": "code",
   "execution_count": 4,
   "metadata": {},
   "outputs": [],
   "source": [
    "#(2）tensorflow中执行常量基本运算APL的基本用法"
   ]
  },
  {
   "cell_type": "code",
   "execution_count": 5,
   "metadata": {},
   "outputs": [
    {
     "ename": "SyntaxError",
     "evalue": "invalid character in identifier (<ipython-input-5-862d0e08795f>, line 4)",
     "output_type": "error",
     "traceback": [
      "\u001b[1;36m  File \u001b[1;32m\"<ipython-input-5-862d0e08795f>\"\u001b[1;36m, line \u001b[1;32m4\u001b[0m\n\u001b[1;33m    tf。divide(x, y) #代表x/y\u001b[0m\n\u001b[1;37m            ^\u001b[0m\n\u001b[1;31mSyntaxError\u001b[0m\u001b[1;31m:\u001b[0m invalid character in identifier\n"
     ]
    }
   ],
   "source": [
    "tf.add(x, y) #代表x+y\n",
    "tf.subtract(x, y) #代表x-y\n",
    "tf.multiply #代表x*y\n",
    "tf。divide(x, y) #代表x/y\n",
    "tf.pow(x, y) #代表x的y次方"
   ]
  },
  {
   "cell_type": "code",
   "execution_count": null,
   "metadata": {},
   "outputs": [],
   "source": []
  }
 ],
 "metadata": {
  "kernelspec": {
   "display_name": "Python 3",
   "language": "python",
   "name": "python3"
  }
 },
 "nbformat": 4,
 "nbformat_minor": 2
}
