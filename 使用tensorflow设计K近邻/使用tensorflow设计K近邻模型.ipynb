{
 "cells": [
  {
   "cell_type": "code",
   "execution_count": 25,
   "metadata": {},
   "outputs": [],
   "source": [
    "from sklearn import datasets\n",
    "from sklearn import model_selection\n",
    "import tensorflow as tf\n",
    "import numpy as np"
   ]
  },
  {
   "cell_type": "code",
   "execution_count": 115,
   "metadata": {},
   "outputs": [],
   "source": [
    "iris = datasets.load_iris()"
   ]
  },
  {
   "cell_type": "code",
   "execution_count": 108,
   "metadata": {},
   "outputs": [],
   "source": [
    "train_set, test_set, labels_train, labels_test = model_selection.train_test_split(iris.data, iris.target, test_size=0.2, shuffle=True)"
   ]
  },
  {
   "cell_type": "code",
   "execution_count": 109,
   "metadata": {},
   "outputs": [],
   "source": [
    "#占位符\n",
    "train_placeholder = tf.placeholder('float', [None, 4])\n",
    "test_placeholder = tf.placeholder('float', [4])"
   ]
  },
  {
   "cell_type": "code",
   "execution_count": 110,
   "metadata": {},
   "outputs": [],
   "source": [
    "distance = tf.reduce_sum(tf.abs(tf.add(train_placeholder, tf.negative(test_placeholder))), reduction_indices=1)"
   ]
  },
  {
   "cell_type": "code",
   "execution_count": 111,
   "metadata": {},
   "outputs": [],
   "source": [
    "#预测\n",
    "pred = tf.arg_min(distance, 0)"
   ]
  },
  {
   "cell_type": "code",
   "execution_count": 112,
   "metadata": {},
   "outputs": [],
   "source": [
    "#正确分类数\n",
    "acc = 0"
   ]
  },
  {
   "cell_type": "code",
   "execution_count": 113,
   "metadata": {},
   "outputs": [],
   "source": [
    "#初始化\n",
    "init = tf.initialize_all_variables()"
   ]
  },
  {
   "cell_type": "code",
   "execution_count": 114,
   "metadata": {},
   "outputs": [
    {
     "name": "stdout",
     "output_type": "stream",
     "text": [
      "样本： 0  - 预测为: 0  - 正确为: 0\n",
      "样本： 1  - 预测为: 1  - 正确为: 1\n",
      "样本： 2  - 预测为: 2  - 正确为: 2\n",
      "样本： 3  - 预测为: 2  - 正确为: 2\n",
      "样本： 4  - 预测为: 1  - 正确为: 1\n",
      "样本： 5  - 预测为: 0  - 正确为: 0\n",
      "样本： 6  - 预测为: 2  - 正确为: 2\n",
      "样本： 7  - 预测为: 2  - 正确为: 2\n",
      "样本： 8  - 预测为: 1  - 正确为: 1\n",
      "样本： 9  - 预测为: 1  - 正确为: 1\n",
      "样本： 10  - 预测为: 1  - 正确为: 1\n",
      "样本： 11  - 预测为: 1  - 正确为: 1\n",
      "样本： 12  - 预测为: 2  - 正确为: 2\n",
      "样本： 13  - 预测为: 0  - 正确为: 0\n",
      "样本： 14  - 预测为: 1  - 正确为: 1\n",
      "样本： 15  - 预测为: 0  - 正确为: 0\n",
      "样本： 16  - 预测为: 2  - 正确为: 2\n",
      "样本： 17  - 预测为: 1  - 正确为: 1\n",
      "样本： 18  - 预测为: 2  - 正确为: 2\n",
      "样本： 19  - 预测为: 1  - 正确为: 2\n",
      "样本： 20  - 预测为: 1  - 正确为: 1\n",
      "样本： 21  - 预测为: 2  - 正确为: 1\n",
      "样本： 22  - 预测为: 1  - 正确为: 2\n",
      "样本： 23  - 预测为: 1  - 正确为: 1\n",
      "样本： 24  - 预测为: 1  - 正确为: 1\n",
      "样本： 25  - 预测为: 0  - 正确为: 0\n",
      "样本： 26  - 预测为: 1  - 正确为: 1\n",
      "样本： 27  - 预测为: 0  - 正确为: 0\n",
      "样本： 28  - 预测为: 2  - 正确为: 2\n",
      "样本： 29  - 预测为: 2  - 正确为: 2\n",
      "Accuracy: 0.9\n"
     ]
    }
   ],
   "source": [
    "with tf.Session() as sess:\n",
    "    sess.run(init)\n",
    "    # 遍历测试集\n",
    "    for i in range(len(test_set)):\n",
    "        #找到距离最近的索引\n",
    "        nn_index = sess.run(pred, feed_dict={train_placeholder: train_set, test_placeholder: test_set[i]})\n",
    "        # 最近邻分类标签与真实标签比较\n",
    "        print(\"样本：\", i, \" - 预测为:\", labels_train[nn_index], \" - 正确为:\", labels_test[i])\n",
    "        # 计算准确率\n",
    "        if labels_train[nn_index] == labels_test[i]:\n",
    "            acc += 1\n",
    "print(\"Accuracy:\", acc/len(features_test))\n"
   ]
  },
  {
   "cell_type": "code",
   "execution_count": null,
   "metadata": {},
   "outputs": [],
   "source": []
  },
  {
   "cell_type": "code",
   "execution_count": null,
   "metadata": {},
   "outputs": [],
   "source": []
  }
 ],
 "metadata": {
  "kernelspec": {
   "display_name": "Python 3",
   "language": "python",
   "name": "python3"
  },
  "language_info": {
   "codemirror_mode": {
    "name": "ipython",
    "version": 3
   },
   "file_extension": ".py",
   "mimetype": "text/x-python",
   "name": "python",
   "nbconvert_exporter": "python",
   "pygments_lexer": "ipython3",
   "version": "3.6.5"
  }
 },
 "nbformat": 4,
 "nbformat_minor": 2
}
